{
 "cells": [
  {
   "cell_type": "code",
   "execution_count": 2,
   "metadata": {},
   "outputs": [
    {
     "name": "stdout",
     "output_type": "stream",
     "text": [
      "Note: you may need to restart the kernel to use updated packages.\n",
      "Requirement already satisfied: transformers in c:\\users\\subha\\appdata\\local\\programs\\python\\python312\\lib\\site-packages (4.41.2)\n",
      "Requirement already satisfied: datasets in c:\\users\\subha\\appdata\\local\\programs\\python\\python312\\lib\\site-packages (3.2.0)\n",
      "Requirement already satisfied: torch in c:\\users\\subha\\appdata\\local\\programs\\python\\python312\\lib\\site-packages (2.3.1)\n",
      "Requirement already satisfied: seqeval in c:\\users\\subha\\appdata\\local\\programs\\python\\python312\\lib\\site-packages (1.2.2)\n",
      "Requirement already satisfied: scikit-learn in c:\\users\\subha\\appdata\\local\\programs\\python\\python312\\lib\\site-packages (1.5.0)\n",
      "Requirement already satisfied: filelock in c:\\users\\subha\\appdata\\local\\programs\\python\\python312\\lib\\site-packages (from transformers) (3.15.1)\n",
      "Requirement already satisfied: huggingface-hub<1.0,>=0.23.0 in c:\\users\\subha\\appdata\\local\\programs\\python\\python312\\lib\\site-packages (from transformers) (0.23.3)\n",
      "Requirement already satisfied: numpy>=1.17 in c:\\users\\subha\\appdata\\local\\programs\\python\\python312\\lib\\site-packages (from transformers) (1.26.4)\n",
      "Requirement already satisfied: packaging>=20.0 in c:\\users\\subha\\appdata\\roaming\\python\\python312\\site-packages (from transformers) (24.0)\n",
      "Requirement already satisfied: pyyaml>=5.1 in c:\\users\\subha\\appdata\\local\\programs\\python\\python312\\lib\\site-packages (from transformers) (6.0.1)\n",
      "Requirement already satisfied: regex!=2019.12.17 in c:\\users\\subha\\appdata\\local\\programs\\python\\python312\\lib\\site-packages (from transformers) (2024.5.15)\n",
      "Requirement already satisfied: requests in c:\\users\\subha\\appdata\\local\\programs\\python\\python312\\lib\\site-packages (from transformers) (2.32.3)\n",
      "Requirement already satisfied: tokenizers<0.20,>=0.19 in c:\\users\\subha\\appdata\\local\\programs\\python\\python312\\lib\\site-packages (from transformers) (0.19.1)\n",
      "Requirement already satisfied: safetensors>=0.4.1 in c:\\users\\subha\\appdata\\local\\programs\\python\\python312\\lib\\site-packages (from transformers) (0.4.3)\n",
      "Requirement already satisfied: tqdm>=4.27 in c:\\users\\subha\\appdata\\local\\programs\\python\\python312\\lib\\site-packages (from transformers) (4.66.4)\n",
      "Requirement already satisfied: pyarrow>=15.0.0 in c:\\users\\subha\\appdata\\local\\programs\\python\\python312\\lib\\site-packages (from datasets) (17.0.0)\n",
      "Requirement already satisfied: dill<0.3.9,>=0.3.0 in c:\\users\\subha\\appdata\\local\\programs\\python\\python312\\lib\\site-packages (from datasets) (0.3.8)\n",
      "Requirement already satisfied: pandas in c:\\users\\subha\\appdata\\local\\programs\\python\\python312\\lib\\site-packages (from datasets) (2.2.2)\n",
      "Requirement already satisfied: xxhash in c:\\users\\subha\\appdata\\local\\programs\\python\\python312\\lib\\site-packages (from datasets) (3.5.0)\n",
      "Requirement already satisfied: multiprocess<0.70.17 in c:\\users\\subha\\appdata\\local\\programs\\python\\python312\\lib\\site-packages (from datasets) (0.70.16)\n",
      "Requirement already satisfied: fsspec<=2024.9.0,>=2023.1.0 in c:\\users\\subha\\appdata\\local\\programs\\python\\python312\\lib\\site-packages (from fsspec[http]<=2024.9.0,>=2023.1.0->datasets) (2024.6.0)\n",
      "Requirement already satisfied: aiohttp in c:\\users\\subha\\appdata\\local\\programs\\python\\python312\\lib\\site-packages (from datasets) (3.9.5)\n",
      "Requirement already satisfied: typing-extensions>=4.8.0 in c:\\users\\subha\\appdata\\local\\programs\\python\\python312\\lib\\site-packages (from torch) (4.12.2)\n",
      "Requirement already satisfied: sympy in c:\\users\\subha\\appdata\\local\\programs\\python\\python312\\lib\\site-packages (from torch) (1.12.1)\n",
      "Requirement already satisfied: networkx in c:\\users\\subha\\appdata\\local\\programs\\python\\python312\\lib\\site-packages (from torch) (3.3)\n",
      "Requirement already satisfied: jinja2 in c:\\users\\subha\\appdata\\local\\programs\\python\\python312\\lib\\site-packages (from torch) (3.1.4)\n",
      "Requirement already satisfied: mkl<=2021.4.0,>=2021.1.1 in c:\\users\\subha\\appdata\\local\\programs\\python\\python312\\lib\\site-packages (from torch) (2021.4.0)\n",
      "Requirement already satisfied: scipy>=1.6.0 in c:\\users\\subha\\appdata\\local\\programs\\python\\python312\\lib\\site-packages (from scikit-learn) (1.13.1)\n",
      "Requirement already satisfied: joblib>=1.2.0 in c:\\users\\subha\\appdata\\local\\programs\\python\\python312\\lib\\site-packages (from scikit-learn) (1.4.2)\n",
      "Requirement already satisfied: threadpoolctl>=3.1.0 in c:\\users\\subha\\appdata\\local\\programs\\python\\python312\\lib\\site-packages (from scikit-learn) (3.5.0)\n",
      "Requirement already satisfied: aiosignal>=1.1.2 in c:\\users\\subha\\appdata\\local\\programs\\python\\python312\\lib\\site-packages (from aiohttp->datasets) (1.3.1)\n",
      "Requirement already satisfied: attrs>=17.3.0 in c:\\users\\subha\\appdata\\local\\programs\\python\\python312\\lib\\site-packages (from aiohttp->datasets) (23.2.0)\n",
      "Requirement already satisfied: frozenlist>=1.1.1 in c:\\users\\subha\\appdata\\local\\programs\\python\\python312\\lib\\site-packages (from aiohttp->datasets) (1.4.1)\n",
      "Requirement already satisfied: multidict<7.0,>=4.5 in c:\\users\\subha\\appdata\\local\\programs\\python\\python312\\lib\\site-packages (from aiohttp->datasets) (6.0.5)\n",
      "Requirement already satisfied: yarl<2.0,>=1.0 in c:\\users\\subha\\appdata\\local\\programs\\python\\python312\\lib\\site-packages (from aiohttp->datasets) (1.9.4)\n",
      "Requirement already satisfied: intel-openmp==2021.* in c:\\users\\subha\\appdata\\local\\programs\\python\\python312\\lib\\site-packages (from mkl<=2021.4.0,>=2021.1.1->torch) (2021.4.0)\n",
      "Requirement already satisfied: tbb==2021.* in c:\\users\\subha\\appdata\\local\\programs\\python\\python312\\lib\\site-packages (from mkl<=2021.4.0,>=2021.1.1->torch) (2021.12.0)\n",
      "Requirement already satisfied: charset-normalizer<4,>=2 in c:\\users\\subha\\appdata\\local\\programs\\python\\python312\\lib\\site-packages (from requests->transformers) (3.3.2)\n",
      "Requirement already satisfied: idna<4,>=2.5 in c:\\users\\subha\\appdata\\local\\programs\\python\\python312\\lib\\site-packages (from requests->transformers) (3.7)\n",
      "Requirement already satisfied: urllib3<3,>=1.21.1 in c:\\users\\subha\\appdata\\local\\programs\\python\\python312\\lib\\site-packages (from requests->transformers) (2.2.1)\n",
      "Requirement already satisfied: certifi>=2017.4.17 in c:\\users\\subha\\appdata\\local\\programs\\python\\python312\\lib\\site-packages (from requests->transformers) (2024.6.2)\n",
      "Requirement already satisfied: colorama in c:\\users\\subha\\appdata\\roaming\\python\\python312\\site-packages (from tqdm>=4.27->transformers) (0.4.6)\n",
      "Requirement already satisfied: MarkupSafe>=2.0 in c:\\users\\subha\\appdata\\local\\programs\\python\\python312\\lib\\site-packages (from jinja2->torch) (2.1.5)\n",
      "Requirement already satisfied: python-dateutil>=2.8.2 in c:\\users\\subha\\appdata\\roaming\\python\\python312\\site-packages (from pandas->datasets) (2.9.0.post0)\n",
      "Requirement already satisfied: pytz>=2020.1 in c:\\users\\subha\\appdata\\local\\programs\\python\\python312\\lib\\site-packages (from pandas->datasets) (2024.1)\n",
      "Requirement already satisfied: tzdata>=2022.7 in c:\\users\\subha\\appdata\\local\\programs\\python\\python312\\lib\\site-packages (from pandas->datasets) (2024.1)\n",
      "Requirement already satisfied: mpmath<1.4.0,>=1.1.0 in c:\\users\\subha\\appdata\\local\\programs\\python\\python312\\lib\\site-packages (from sympy->torch) (1.3.0)\n",
      "Requirement already satisfied: six>=1.5 in c:\\users\\subha\\appdata\\roaming\\python\\python312\\site-packages (from python-dateutil>=2.8.2->pandas->datasets) (1.16.0)\n"
     ]
    },
    {
     "name": "stderr",
     "output_type": "stream",
     "text": [
      "\n",
      "[notice] A new release of pip is available: 24.3.1 -> 25.0.1\n",
      "[notice] To update, run: python.exe -m pip install --upgrade pip\n"
     ]
    }
   ],
   "source": [
    "pip install transformers datasets torch seqeval scikit-learn\n"
   ]
  },
  {
   "cell_type": "code",
   "execution_count": 49,
   "metadata": {},
   "outputs": [],
   "source": [
    "import torch\n",
    "import pandas as pd\n",
    "import numpy as np\n",
    "from datasets import Dataset\n",
    "from transformers import (\n",
    "    AutoModelForTokenClassification,\n",
    "    AutoTokenizer,\n",
    "    TrainingArguments,\n",
    "    Trainer,\n",
    "    DataCollatorForTokenClassification,\n",
    ")\n",
    "from seqeval.metrics import classification_report\n",
    "from sklearn.model_selection import train_test_split"
   ]
  },
  {
   "cell_type": "code",
   "execution_count": 50,
   "metadata": {},
   "outputs": [],
   "source": [
    "# ✅ Load the BIO-labeled dataset\n",
    "bio_dataset_path = r\"C:\\Users\\subha\\OneDrive\\Desktop\\sdoh_bio_dataset_corrected.csv\"\n",
    "df = pd.read_csv(bio_dataset_path)\n",
    "\n",
    "# ✅ Ensure dataset has correct columns\n",
    "required_columns = {\"Sentence_ID\", \"Token\", \"BIO_Tag\"}\n",
    "if not required_columns.issubset(df.columns):\n",
    "    raise ValueError(f\"Dataset must contain columns: {required_columns}\")\n",
    "\n",
    "# ✅ Remove NaN values in the Token column\n",
    "df = df.dropna(subset=[\"Token\"])  # Drop rows where Token is NaN"
   ]
  },
  {
   "cell_type": "code",
   "execution_count": 51,
   "metadata": {},
   "outputs": [],
   "source": [
    "# ✅ Convert dataset into a format suitable for training\n",
    "sentence_group = df.groupby(\"Sentence_ID\")\n",
    "sentences = sentence_group[\"Token\"].apply(list).tolist()\n",
    "labels = sentence_group[\"BIO_Tag\"].apply(list).tolist()\n",
    "\n",
    "# ✅ Mapping BIO labels to IDs\n",
    "unique_labels = sorted(set(df[\"BIO_Tag\"].dropna()))  # Drop NaN from label list\n",
    "label2id = {label: i for i, label in enumerate(unique_labels)}\n",
    "id2label = {i: label for label, i in label2id.items()}\n",
    "\n",
    "# ✅ Convert labels to numerical IDs\n",
    "label_ids = [[label2id[label] for label in sent_labels] for sent_labels in labels]\n",
    "\n",
    "# ✅ Remove any empty sentences after processing\n",
    "filtered_sentences = []\n",
    "filtered_labels = []\n",
    "for sent, lbl in zip(sentences, label_ids):\n",
    "    if sent:  # Avoid empty sentence lists\n",
    "        filtered_sentences.append(sent)\n",
    "        filtered_labels.append(lbl)\n"
   ]
  },
  {
   "cell_type": "code",
   "execution_count": 52,
   "metadata": {},
   "outputs": [
    {
     "name": "stderr",
     "output_type": "stream",
     "text": [
      "c:\\Users\\subha\\AppData\\Local\\Programs\\Python\\Python312\\Lib\\site-packages\\huggingface_hub\\file_download.py:1132: FutureWarning: `resume_download` is deprecated and will be removed in version 1.0.0. Downloads always resume when possible. If you want to force a new download, use `force_download=True`.\n",
      "  warnings.warn(\n"
     ]
    }
   ],
   "source": [
    "# ✅ Train-Test Split\n",
    "train_texts, val_texts, train_labels, val_labels = train_test_split(filtered_sentences, filtered_labels, test_size=0.2)\n",
    "\n",
    "# ✅ Load BioBERT Tokenizer\n",
    "model_checkpoint = \"dmis-lab/biobert-base-cased-v1.1\"\n",
    "tokenizer = AutoTokenizer.from_pretrained(model_checkpoint)"
   ]
  },
  {
   "cell_type": "code",
   "execution_count": 53,
   "metadata": {},
   "outputs": [],
   "source": [
    "# ✅ Tokenization Function\n",
    "def tokenize_and_align_labels(texts, labels):\n",
    "    tokenized_inputs = tokenizer(\n",
    "        texts,\n",
    "        truncation=True,\n",
    "        padding=\"max_length\",\n",
    "        max_length=128,\n",
    "        is_split_into_words=True,\n",
    "    )\n",
    "\n",
    "    aligned_labels = []\n",
    "    for i, label in enumerate(labels):\n",
    "        word_ids = tokenized_inputs.word_ids(batch_index=i)  # Map tokens to words\n",
    "        previous_word = None\n",
    "        new_labels = []\n",
    "\n",
    "        for word_idx in word_ids:\n",
    "            if word_idx is None:\n",
    "                new_labels.append(-100)  # Ignore padding\n",
    "            elif word_idx != previous_word:\n",
    "                new_labels.append(label[word_idx])  # Assign correct label\n",
    "            else:\n",
    "                new_labels.append(label[word_idx])  # Keep same label for subwords\n",
    "            previous_word = word_idx\n",
    "\n",
    "        aligned_labels.append(new_labels)\n",
    "\n",
    "    tokenized_inputs[\"labels\"] = aligned_labels\n",
    "    return tokenized_inputs\n",
    "\n",
    "# ✅ Tokenize Data\n",
    "train_data = tokenize_and_align_labels(train_texts, train_labels)\n",
    "val_data = tokenize_and_align_labels(val_texts, val_labels)"
   ]
  },
  {
   "cell_type": "code",
   "execution_count": 54,
   "metadata": {},
   "outputs": [
    {
     "name": "stderr",
     "output_type": "stream",
     "text": [
      "Some weights of BertForTokenClassification were not initialized from the model checkpoint at dmis-lab/biobert-base-cased-v1.1 and are newly initialized: ['classifier.bias', 'classifier.weight']\n",
      "You should probably TRAIN this model on a down-stream task to be able to use it for predictions and inference.\n"
     ]
    }
   ],
   "source": [
    "# ✅ Convert to Hugging Face Dataset\n",
    "train_dataset = Dataset.from_dict(train_data)\n",
    "val_dataset = Dataset.from_dict(val_data)\n",
    "\n",
    "# ✅ Load BioBERT model for token classification\n",
    "model = AutoModelForTokenClassification.from_pretrained(model_checkpoint, num_labels=len(unique_labels))"
   ]
  },
  {
   "cell_type": "code",
   "execution_count": 55,
   "metadata": {},
   "outputs": [
    {
     "name": "stderr",
     "output_type": "stream",
     "text": [
      "c:\\Users\\subha\\AppData\\Local\\Programs\\Python\\Python312\\Lib\\site-packages\\transformers\\training_args.py:1474: FutureWarning: `evaluation_strategy` is deprecated and will be removed in version 4.46 of 🤗 Transformers. Use `eval_strategy` instead\n",
      "  warnings.warn(\n"
     ]
    }
   ],
   "source": [
    "# ✅ Training Arguments\n",
    "training_args = TrainingArguments(\n",
    "    output_dir=\"./biobert_ner\",\n",
    "    evaluation_strategy=\"epoch\",\n",
    "    save_strategy=\"epoch\",\n",
    "    per_device_train_batch_size=16,\n",
    "    per_device_eval_batch_size=16,\n",
    "    num_train_epochs=5,\n",
    "    weight_decay=0.01,\n",
    "    logging_dir=\"./logs\",\n",
    "    save_total_limit=2,\n",
    "    load_best_model_at_end=True,\n",
    ")"
   ]
  },
  {
   "cell_type": "code",
   "execution_count": 56,
   "metadata": {},
   "outputs": [],
   "source": [
    "# ✅ Data collator\n",
    "data_collator = DataCollatorForTokenClassification(tokenizer)\n",
    "\n",
    "# ✅ Trainer setup\n",
    "trainer = Trainer(\n",
    "    model=model,\n",
    "    args=training_args,\n",
    "    train_dataset=train_dataset,\n",
    "    eval_dataset=val_dataset,\n",
    "    tokenizer=tokenizer,\n",
    "    data_collator=data_collator,\n",
    ")"
   ]
  },
  {
   "cell_type": "code",
   "execution_count": 57,
   "metadata": {},
   "outputs": [
    {
     "name": "stderr",
     "output_type": "stream",
     "text": [
      "                                                \n",
      " 20%|██        | 21/105 [06:16<21:47, 15.56s/it]"
     ]
    },
    {
     "name": "stdout",
     "output_type": "stream",
     "text": [
      "{'eval_loss': 0.5440341234207153, 'eval_runtime': 29.0827, 'eval_samples_per_second': 2.888, 'eval_steps_per_second': 0.206, 'epoch': 1.0}\n"
     ]
    },
    {
     "name": "stderr",
     "output_type": "stream",
     "text": [
      "                                                \n",
      " 40%|████      | 42/105 [12:27<16:13, 15.45s/it]"
     ]
    },
    {
     "name": "stdout",
     "output_type": "stream",
     "text": [
      "{'eval_loss': 0.25504136085510254, 'eval_runtime': 29.126, 'eval_samples_per_second': 2.884, 'eval_steps_per_second': 0.206, 'epoch': 2.0}\n"
     ]
    },
    {
     "name": "stderr",
     "output_type": "stream",
     "text": [
      "                                                \n",
      " 60%|██████    | 63/105 [18:44<10:47, 15.43s/it]"
     ]
    },
    {
     "name": "stdout",
     "output_type": "stream",
     "text": [
      "{'eval_loss': 0.17006881535053253, 'eval_runtime': 29.1767, 'eval_samples_per_second': 2.879, 'eval_steps_per_second': 0.206, 'epoch': 3.0}\n"
     ]
    },
    {
     "name": "stderr",
     "output_type": "stream",
     "text": [
      "                                                \n",
      " 80%|████████  | 84/105 [24:54<05:23, 15.42s/it]"
     ]
    },
    {
     "name": "stdout",
     "output_type": "stream",
     "text": [
      "{'eval_loss': 0.15451069176197052, 'eval_runtime': 29.1449, 'eval_samples_per_second': 2.882, 'eval_steps_per_second': 0.206, 'epoch': 4.0}\n"
     ]
    },
    {
     "name": "stderr",
     "output_type": "stream",
     "text": [
      "                                                 \n",
      "100%|██████████| 105/105 [31:09<00:00, 15.63s/it]"
     ]
    },
    {
     "name": "stdout",
     "output_type": "stream",
     "text": [
      "{'eval_loss': 0.15062932670116425, 'eval_runtime': 29.093, 'eval_samples_per_second': 2.887, 'eval_steps_per_second': 0.206, 'epoch': 5.0}\n"
     ]
    },
    {
     "name": "stderr",
     "output_type": "stream",
     "text": [
      "100%|██████████| 105/105 [31:12<00:00, 17.83s/it]"
     ]
    },
    {
     "name": "stdout",
     "output_type": "stream",
     "text": [
      "{'train_runtime': 1872.5267, 'train_samples_per_second': 0.889, 'train_steps_per_second': 0.056, 'train_loss': 0.338874998546782, 'epoch': 5.0}\n"
     ]
    },
    {
     "name": "stderr",
     "output_type": "stream",
     "text": [
      "\n"
     ]
    },
    {
     "data": {
      "text/plain": [
       "TrainOutput(global_step=105, training_loss=0.338874998546782, metrics={'train_runtime': 1872.5267, 'train_samples_per_second': 0.889, 'train_steps_per_second': 0.056, 'total_flos': 108777558355200.0, 'train_loss': 0.338874998546782, 'epoch': 5.0})"
      ]
     },
     "execution_count": 57,
     "metadata": {},
     "output_type": "execute_result"
    }
   ],
   "source": [
    "# ✅ Train the model\n",
    "trainer.train()\n"
   ]
  },
  {
   "cell_type": "code",
   "execution_count": null,
   "metadata": {},
   "outputs": [],
   "source": [
    "\n"
   ]
  },
  {
   "cell_type": "code",
   "execution_count": 59,
   "metadata": {},
   "outputs": [
    {
     "data": {
      "text/plain": [
       "('C:\\\\Users\\\\subha\\\\Documents\\\\MyTrainedModels\\\\biobert_ner_trained\\\\tokenizer_config.json',\n",
       " 'C:\\\\Users\\\\subha\\\\Documents\\\\MyTrainedModels\\\\biobert_ner_trained\\\\special_tokens_map.json',\n",
       " 'C:\\\\Users\\\\subha\\\\Documents\\\\MyTrainedModels\\\\biobert_ner_trained\\\\vocab.txt',\n",
       " 'C:\\\\Users\\\\subha\\\\Documents\\\\MyTrainedModels\\\\biobert_ner_trained\\\\added_tokens.json',\n",
       " 'C:\\\\Users\\\\subha\\\\Documents\\\\MyTrainedModels\\\\biobert_ner_trained\\\\tokenizer.json')"
      ]
     },
     "execution_count": 59,
     "metadata": {},
     "output_type": "execute_result"
    }
   ],
   "source": [
    "# ✅ Save the trained model\n",
    "trainer.save_model(r\"C:\\Users\\subha\\Documents\\MyTrainedModels\\biobert_ner_trained\")\n",
    "tokenizer.save_pretrained(r\"C:\\Users\\subha\\Documents\\MyTrainedModels\\biobert_ner_trained\")"
   ]
  },
  {
   "cell_type": "code",
   "execution_count": 60,
   "metadata": {},
   "outputs": [
    {
     "name": "stdout",
     "output_type": "stream",
     "text": [
      "WARNING:tensorflow:From c:\\Users\\subha\\AppData\\Local\\Programs\\Python\\Python312\\Lib\\site-packages\\tf_keras\\src\\losses.py:2976: The name tf.losses.sparse_softmax_cross_entropy is deprecated. Please use tf.compat.v1.losses.sparse_softmax_cross_entropy instead.\n",
      "\n"
     ]
    },
    {
     "name": "stderr",
     "output_type": "stream",
     "text": [
      "Asking to truncate to max_length but no maximum length is provided and the model has no predefined maximum length. Default to no truncation.\n"
     ]
    },
    {
     "name": "stdout",
     "output_type": "stream",
     "text": [
      "🔍 Raw Predictions:\n",
      "{'entity': 'LABEL_6', 'score': 0.8570857, 'index': 1, 'word': 'the', 'start': 0, 'end': 3}\n",
      "{'entity': 'LABEL_13', 'score': 0.40886027, 'index': 2, 'word': 'patient', 'start': 4, 'end': 11}\n",
      "{'entity': 'LABEL_13', 'score': 0.9901569, 'index': 3, 'word': 'has', 'start': 12, 'end': 15}\n",
      "{'entity': 'LABEL_13', 'score': 0.991353, 'index': 4, 'word': 'a', 'start': 16, 'end': 17}\n",
      "{'entity': 'LABEL_13', 'score': 0.99341375, 'index': 5, 'word': 'history', 'start': 18, 'end': 25}\n",
      "{'entity': 'LABEL_13', 'score': 0.99405825, 'index': 6, 'word': 'of', 'start': 26, 'end': 28}\n",
      "{'entity': 'LABEL_13', 'score': 0.99385756, 'index': 7, 'word': 'smoking', 'start': 29, 'end': 36}\n",
      "{'entity': 'LABEL_13', 'score': 0.99123317, 'index': 8, 'word': 'and', 'start': 37, 'end': 40}\n",
      "{'entity': 'LABEL_13', 'score': 0.98907906, 'index': 9, 'word': 'lacks', 'start': 41, 'end': 46}\n",
      "{'entity': 'LABEL_13', 'score': 0.9870452, 'index': 10, 'word': 'stable', 'start': 47, 'end': 53}\n",
      "{'entity': 'LABEL_13', 'score': 0.9906048, 'index': 11, 'word': 'housing', 'start': 54, 'end': 61}\n",
      "{'entity': 'LABEL_13', 'score': 0.9925229, 'index': 12, 'word': '.', 'start': 61, 'end': 62}\n"
     ]
    }
   ],
   "source": [
    "from transformers import pipeline\n",
    "\n",
    "# ✅ Load trained BioBERT NER model\n",
    "model_path = r\"C:\\Users\\subha\\Documents\\MyTrainedModels\\biobert_ner_trained\"\n",
    "ner_pipeline = pipeline(\"ner\", model=model_path, tokenizer=model_path)\n",
    "\n",
    "# ✅ Sample test sentence (modify with real examples)\n",
    "test_text = \"The patient has a history of smoking and lacks stable housing.\"\n",
    "\n",
    "# ✅ Run inference\n",
    "predictions = ner_pipeline(test_text)\n",
    "\n",
    "# ✅ Print Raw Predictions\n",
    "print(\"🔍 Raw Predictions:\")\n",
    "for pred in predictions:\n",
    "    print(pred)\n"
   ]
  },
  {
   "cell_type": "code",
   "execution_count": 61,
   "metadata": {},
   "outputs": [
    {
     "name": "stdout",
     "output_type": "stream",
     "text": [
      "\n",
      "✅ **Formatted Predictions:**\n",
      "{'word': 'the', 'start': 0, 'end': 3, 'score': 0.8570857, 'entity': 'I-HOUSING'}\n",
      "{'word': 'patient', 'start': 4, 'end': 11, 'score': 0.40886027, 'entity': 'B-INCOME'}\n",
      "{'word': 'has', 'start': 12, 'end': 15, 'score': 0.9901569, 'entity': 'B-INCOME'}\n",
      "{'word': 'a', 'start': 16, 'end': 17, 'score': 0.991353, 'entity': 'B-INCOME'}\n",
      "{'word': 'history', 'start': 18, 'end': 25, 'score': 0.99341375, 'entity': 'B-INCOME'}\n",
      "{'word': 'of', 'start': 26, 'end': 28, 'score': 0.99405825, 'entity': 'B-INCOME'}\n",
      "{'word': 'smoking', 'start': 29, 'end': 36, 'score': 0.99385756, 'entity': 'B-INCOME'}\n",
      "{'word': 'and', 'start': 37, 'end': 40, 'score': 0.99123317, 'entity': 'B-INCOME'}\n",
      "{'word': 'lacks', 'start': 41, 'end': 46, 'score': 0.98907906, 'entity': 'B-INCOME'}\n",
      "{'word': 'stable', 'start': 47, 'end': 53, 'score': 0.9870452, 'entity': 'B-INCOME'}\n",
      "{'word': 'housing', 'start': 54, 'end': 61, 'score': 0.9906048, 'entity': 'B-INCOME'}\n",
      "{'word': '.', 'start': 61, 'end': 62, 'score': 0.9925229, 'entity': 'B-INCOME'}\n"
     ]
    }
   ],
   "source": [
    "# ✅ Mapping Label IDs to Actual Labels (if necessary)\n",
    "id2label = {0: \"O\", 1: \"B-SOCIAL_SUPPORT\", 2: \"I-SOCIAL_SUPPORT\", 3: \"B-ALCOHOL_USE\", 4: \"I-ALCOHOL_USE\", 5: \"B-HOUSING\", 6: \"I-HOUSING\", 7: \"B-MENTAL_HEALTH\", 8: \"I-MENTAL_HEALTH\", 9: \"B-EMPLOYMENT\", 10: \"I-EMPLOYMENT\", 11: \"B-TRANSPORTATION\", 12: \"I-TRANSPORTATION\", 13: \"B-INCOME\", 14: \"I-INCOME\", 15: \"B-FOOD_SECURITY\", 16: \"I-FOOD_SECURITY\"}\n",
    "\n",
    "# ✅ Format output\n",
    "formatted_predictions = []\n",
    "for entity in predictions:\n",
    "    formatted_predictions.append({\n",
    "        \"word\": entity[\"word\"],\n",
    "        \"start\": entity[\"start\"],\n",
    "        \"end\": entity[\"end\"],\n",
    "        \"score\": entity[\"score\"],\n",
    "        \"entity\": id2label.get(int(entity[\"entity\"].replace(\"LABEL_\", \"\")), \"UNKNOWN\")  # Convert LABEL_X to readable\n",
    "    })\n",
    "\n",
    "# ✅ Display formatted results\n",
    "print(\"\\n✅ **Formatted Predictions:**\")\n",
    "for pred in formatted_predictions:\n",
    "    print(pred)\n"
   ]
  },
  {
   "cell_type": "markdown",
   "metadata": {},
   "source": [
    "!!!!!!!!!!!!!!!!!!!!!!!!!!!!!!!!!!!!!!!!!!!!!!!!!!!!!!!!!!!!!!!!!!!!!!!!!!!!!!!!!!!!!!!!!!!!!!!!!!!!!!!!!!!!!!!!!!!!!!!!!!!!!!!!!!!!!"
   ]
  },
  {
   "cell_type": "code",
   "execution_count": null,
   "metadata": {},
   "outputs": [
    {
     "name": "stdout",
     "output_type": "stream",
     "text": [
      "✅ train_texts sample: [['he', 'has', 'no', 'history', 'of', 'drinking'], ['heroin'], ['test', 'results', 'given', 'to', 'patient', 'or', 'family', 'member', nan, nan, 'patient', 'or', 'family', 'member', 'assisted', 'with']]\n",
      "✅ val_texts sample: [[nan, 'homeless.'], ['n', nan, 'recommendations', nan, 'patient', 'and', 'family', 'verbalize', 'understanding?'], ['heroin']]\n",
      "✅ Total train texts: 333, Total val texts: 84\n"
     ]
    }
   ],
   "source": [
    "#CHECKSSSSS\n",
    "from sklearn.model_selection import train_test_split\n",
    "\n",
    "# 🔍 Debug Split\n",
    "train_texts, val_texts, train_labels, val_labels = train_test_split(sentences, labels, test_size=0.2)\n",
    "\n",
    "print(f\"✅ train_texts sample: {train_texts[:3]}\")\n",
    "print(f\"✅ val_texts sample: {val_texts[:3]}\")\n",
    "print(f\"✅ Total train texts: {len(train_texts)}, Total val texts: {len(val_texts)}\")\n"
   ]
  },
  {
   "cell_type": "code",
   "execution_count": 48,
   "metadata": {},
   "outputs": [
    {
     "name": "stdout",
     "output_type": "stream",
     "text": [
      "✅ Total train texts: 333, Total val texts: 84\n"
     ]
    }
   ],
   "source": [
    "import numpy as np\n",
    "\n",
    "# ✅ Remove NaN tokens\n",
    "clean_sentences = [[token for token in sent if isinstance(token, str)] for sent in sentences]\n",
    "clean_labels = [[label for label in sent_labels] for sent_labels in labels]  # Labels shouldn't have NaN\n",
    "\n",
    "# ✅ Remove empty sentences\n",
    "filtered_sentences = []\n",
    "filtered_labels = []\n",
    "for sent, lbl in zip(clean_sentences, clean_labels):\n",
    "    if sent:  # Only add if sentence is non-empty\n",
    "        filtered_sentences.append(sent)\n",
    "        filtered_labels.append(lbl)\n",
    "\n",
    "# ✅ Re-run train-test split\n",
    "train_texts, val_texts, train_labels, val_labels = train_test_split(filtered_sentences, filtered_labels, test_size=0.2)\n",
    "\n",
    "print(f\"✅ Total train texts: {len(train_texts)}, Total val texts: {len(val_texts)}\")\n"
   ]
  }
 ],
 "metadata": {
  "kernelspec": {
   "display_name": "Python 3",
   "language": "python",
   "name": "python3"
  },
  "language_info": {
   "codemirror_mode": {
    "name": "ipython",
    "version": 3
   },
   "file_extension": ".py",
   "mimetype": "text/x-python",
   "name": "python",
   "nbconvert_exporter": "python",
   "pygments_lexer": "ipython3",
   "version": "3.12.4"
  }
 },
 "nbformat": 4,
 "nbformat_minor": 2
}
